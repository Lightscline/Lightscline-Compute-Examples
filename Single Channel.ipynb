{
 "cells": [
  {
   "cell_type": "markdown",
   "id": "0a818ae7",
   "metadata": {},
   "source": [
    "### TLDR:\n",
    "\n",
    "1. Download and install the software. \n",
    "2. Import your data\n",
    "5. Train your model \n",
    "6. See the test accuracy\n"
   ]
  },
  {
   "cell_type": "markdown",
   "id": "fb51e1d0",
   "metadata": {},
   "source": [
    "## 1. Download and Install the software\n",
    "\n",
    "### 1.1 Download the software \n",
    "\n",
    "\n",
    "1. <a href=\"https://calendly.com/lightscline/lightscline-ai-demo\" target=\"_blank\">Book a meeting here </a>.\n",
    "2. Within 24 hrs of the meeting, You will get the link to download our software\n",
    "\n",
    "### 1.2 Install our software\n",
    "\n",
    "Our current software works with **python 3.9, 3.10 and 3.11** . Please let us know for any more version support.\n",
    "\n",
    "0. (optional) Create a virtual environment \n",
    "\n",
    " - run `python -m venv env` to create a new virtual environment. This should create a folder named env.\n",
    " - run `.\\env\\Scripts\\activate` to activate the virtual environment.\n",
    " - (optional) install jupyter notebook for iteractive session `pip install jupyter`\n",
    " \n",
    "1. Download and install Microsoft Visual C++ Redistributable: https://aka.ms/vs/16/release/vc_redist.x64.exe  \n",
    "2. Install lightscline package by `pip install <path to the .whl file>`\n"
   ]
  },
  {
   "cell_type": "markdown",
   "id": "d3d250bf",
   "metadata": {},
   "source": [
    "### 1.3 Import the package to check if it is correctly installed"
   ]
  },
  {
   "cell_type": "code",
   "execution_count": 10,
   "id": "79bab9ba",
   "metadata": {},
   "outputs": [],
   "source": [
    "from lightscline.lightscline import LightsclineCompute"
   ]
  },
  {
   "cell_type": "markdown",
   "id": "497fec7e",
   "metadata": {},
   "source": [
    "## 2. Import your data\n",
    "\n",
    "You can either import your data or use a dummy dataset to see how it work.\n",
    "\n",
    "Dummy data can be created by typing `data = [[0 for i in range(10000)], [1 for i in range(8000)]]` in python. This will create 2 classes ( two timeseries columns of unequal lengths). Each column represents one class, unless speficified otherwise. Below is a example for getting the data into classes."
   ]
  },
  {
   "cell_type": "markdown",
   "id": "d3930941",
   "metadata": {},
   "source": [
    "### 2.1 Data Preparation for ingestion"
   ]
  },
  {
   "cell_type": "markdown",
   "id": "2526b411",
   "metadata": {},
   "source": [
    "This example uses \n",
    "<a href=\"https://engineering.case.edu/bearingdatacenter\" target=\"_blank\">Case Western Reserve University bearing fault dataset</a>. The data files are present in the `data` folder <a href=\"https://github.com/Lightscline/LightsclineEdge-Demo/tree/main/data\" target=\"_blank\"> here <a>.  \n",
    "\n",
    "\n"
   ]
  },
  {
   "cell_type": "markdown",
   "id": "057cbea4",
   "metadata": {},
   "source": [
    "    \n",
    "Each of the .mat files are 4 different classes (3 different types of bearing fault + 1 normal bearing). The data for each class is a time series vibration data. "
   ]
  },
  {
   "cell_type": "markdown",
   "id": "305f33fa",
   "metadata": {},
   "source": [
    "You can also use your own dataset here instead of using the example dataset"
   ]
  },
  {
   "cell_type": "code",
   "execution_count": 2,
   "id": "dbe0b137",
   "metadata": {},
   "outputs": [],
   "source": [
    "## specify where the data is located. \n",
    "data_folder = r\"data\""
   ]
  },
  {
   "cell_type": "code",
   "execution_count": 3,
   "id": "fdfcc725",
   "metadata": {},
   "outputs": [],
   "source": [
    "import scipy.io\n",
    "## load the data\n",
    "mat1 = scipy.io.loadmat(f'{data_folder}/Normal_1730_1.mat')\n",
    "mat2 = scipy.io.loadmat(f'{data_folder}/B007_1_DE.mat')\n",
    "mat3 = scipy.io.loadmat(f'{data_folder}/IR007_1_DE.mat')\n",
    "mat4 = scipy.io.loadmat(f'{data_folder}/OR007_1_DE.mat')\n",
    "\n",
    "## Convert the data of each file into a list \n",
    "normal_data = mat1['X100_DE_time'].reshape(-1).tolist()\n",
    "ball_defect = mat2['X121_DE_time'].reshape(-1).tolist()\n",
    "IR_defect = mat3['X108_DE_time'].reshape(-1).tolist()\n",
    "OR_defect = mat4['X133_DE_time'].reshape(-1).tolist()\n"
   ]
  },
  {
   "cell_type": "code",
   "execution_count": 4,
   "id": "e4404041",
   "metadata": {},
   "outputs": [],
   "source": [
    "# convert the data into desired format.\n",
    "# data = [normal_data,ball_defect, IR_defect, OR_defect]\n",
    "data = [normal_data[:100000],ball_defect[:100000], IR_defect[:100000], OR_defect[:100000]]"
   ]
  },
  {
   "cell_type": "markdown",
   "id": "b627dc9c",
   "metadata": {},
   "source": [
    "### 2.2 Ingest your data into LightsclineEdge package\n",
    "\n",
    "Once the dataset is in form of List of List, we can import it into LightsclineEdge"
   ]
  },
  {
   "cell_type": "code",
   "execution_count": 5,
   "id": "feea6039",
   "metadata": {},
   "outputs": [
    {
     "name": "stdout",
     "output_type": "stream",
     "text": [
      "License is valid till  20 November 2024\n"
     ]
    }
   ],
   "source": [
    "ls = LightsclineCompute(data=data,fs = 12000,labels = None)  ## Labels will be decided based on column number"
   ]
  },
  {
   "cell_type": "code",
   "execution_count": 6,
   "id": "a9f1d702",
   "metadata": {},
   "outputs": [],
   "source": [
    "## this will create windows of 3600 points each and reduce each window size by 90% to train the data on trained windown size.\n",
    "ls.reduce_and_preprocess_data(per_reduction=90, data_aug_multiplier=360, window_time = 0.3) "
   ]
  },
  {
   "cell_type": "markdown",
   "id": "fc42513e",
   "metadata": {},
   "source": [
    "## 3. Training Model"
   ]
  },
  {
   "cell_type": "markdown",
   "id": "a3e284da",
   "metadata": {},
   "source": [
    "You can change the number of layers to find the best model for your data. More advanced finetuning can be done by contacting us. "
   ]
  },
  {
   "cell_type": "code",
   "execution_count": 7,
   "id": "a080e890",
   "metadata": {},
   "outputs": [
    {
     "name": "stdout",
     "output_type": "stream",
     "text": [
      "epoch:  1 loss:  1.3973582983016968\n",
      "epoch:  51 loss:  1.0971325635910034\n",
      "epoch:  101 loss:  0.8237698674201965\n",
      "epoch:  151 loss:  0.614531397819519\n",
      "epoch:  201 loss:  0.4520638883113861\n",
      "epoch:  251 loss:  0.34060055017471313\n",
      "epoch:  301 loss:  0.26891839504241943\n",
      "epoch:  351 loss:  0.2227456122636795\n",
      "epoch:  401 loss:  0.19063381850719452\n",
      "epoch:  451 loss:  0.166530579328537\n",
      "epoch:  501 loss:  0.14757892489433289\n",
      "epoch:  551 loss:  0.13233135640621185\n",
      "epoch:  601 loss:  0.1198963075876236\n",
      "epoch:  651 loss:  0.10955626517534256\n",
      "epoch:  701 loss:  0.10077135264873505\n",
      "epoch:  751 loss:  0.09289181977510452\n",
      "epoch:  801 loss:  0.08589320629835129\n",
      "epoch:  851 loss:  0.07948650419712067\n",
      "epoch:  901 loss:  0.07378730922937393\n",
      "epoch:  951 loss:  0.06851200759410858\n"
     ]
    }
   ],
   "source": [
    "ls.train_model(layers=(10,10),verbose=True,n_iters = 1000)  ## ANN with input_len * 10 * 10 * 4 (# of classes)"
   ]
  },
  {
   "cell_type": "markdown",
   "id": "7e26e2a0",
   "metadata": {},
   "source": [
    "## 4. Checking accuracy"
   ]
  },
  {
   "cell_type": "code",
   "execution_count": 8,
   "id": "8ee26cd1",
   "metadata": {},
   "outputs": [
    {
     "name": "stdout",
     "output_type": "stream",
     "text": [
      "Accuracy:  0.969\n"
     ]
    }
   ],
   "source": [
    "ls.test_model()"
   ]
  },
  {
   "cell_type": "markdown",
   "id": "c655aad6",
   "metadata": {},
   "source": [
    "### 4.1 checking predictions for only these examples. "
   ]
  },
  {
   "cell_type": "code",
   "execution_count": 9,
   "id": "981c48dc",
   "metadata": {},
   "outputs": [
    {
     "data": {
      "text/plain": [
       "array([0, 0], dtype=int64)"
      ]
     },
     "execution_count": 9,
     "metadata": {},
     "output_type": "execute_result"
    }
   ],
   "source": [
    "ls.predict(data[0][0][:10000])"
   ]
  },
  {
   "cell_type": "markdown",
   "id": "4801e849",
   "metadata": {},
   "source": [
    "### FAQs"
   ]
  },
  {
   "cell_type": "markdown",
   "id": "bf98d017",
   "metadata": {},
   "source": [
    "Q. Can I bring my own models?"
   ]
  },
  {
   "cell_type": "markdown",
   "id": "04d1cec2",
   "metadata": {},
   "source": [
    "Ans. Yes! We have support for Pytorch, sklearn and Tensorflow, <a href=\"mailto:info@lightscline.com?subject=Hello%20you&body=We%20Would%20like%20to%20do%20a%20paid%20pilot\">Contact us</a> for details!\n"
   ]
  }
 ],
 "metadata": {
  "kernelspec": {
   "display_name": "Python 3",
   "language": "python",
   "name": "python3"
  },
  "language_info": {
   "codemirror_mode": {
    "name": "ipython",
    "version": 3
   },
   "file_extension": ".py",
   "mimetype": "text/x-python",
   "name": "python",
   "nbconvert_exporter": "python",
   "pygments_lexer": "ipython3",
   "version": "3.9.5"
  }
 },
 "nbformat": 4,
 "nbformat_minor": 5
}
